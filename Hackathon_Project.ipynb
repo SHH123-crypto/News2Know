{
  "nbformat": 4,
  "nbformat_minor": 0,
  "metadata": {
    "colab": {
      "provenance": []
    },
    "kernelspec": {
      "name": "python3",
      "display_name": "Python 3"
    },
    "language_info": {
      "name": "python"
    }
  },
  "cells": [
    {
      "cell_type": "code",
      "metadata": {
        "colab": {
          "base_uri": "https://localhost:8080/"
        },
        "id": "b72db421",
        "outputId": "ed4645ae-460a-4395-9ada-228376ab747c"
      },
      "source": [
        "import json\n",
        "import requests\n",
        "import smtplib\n",
        "import sys\n",
        "category = input(\"Category: (general, world, nation, business, technology, entertainment, sports, science and health)\").replace(\" \", \"+\").lower()\n",
        "url = f'https://gnews.io/api/v4/top-headlines?category={category}&lang=en&country=us&apikey=YOURGNEWSAPIKEY'\n",
        "data = requests.get(url).json()\n",
        "\n",
        "political_party_keywords = [\n",
        "    # Party names (U.S. and international examples)\n",
        "    \"Democratic Party\", \"Republican Party\", \"Libertarian Party\", \"Green Party\",\n",
        "    \"Labour Party\", \"Conservative Party\", \"Christian Democrats\", \"Social Democrats\",\n",
        "    \"BJP\", \"Tories\", \"SPD\", \"CDU\",\n",
        "\n",
        "    # Abbreviations and shorthand\n",
        "    \"GOP\", \"DNC\", \"RNC\",\n",
        "\n",
        "    # Affiliation-related terms\n",
        "    \"party member\", \"partisan\", \"affiliated with\", \"endorsed by\",\n",
        "    \"party leadership\", \"nominee\", \"candidate\", \"running under\",\n",
        "    \"party lines\", \"along party lines\", \"party platform\", \"party-backed\",\n",
        "\n",
        "    # Contextual political structures\n",
        "    \"bipartisan\", \"partisan divide\", \"majority party\", \"minority party\",\n",
        "    \"coalition\", \"opposition party\", \"ruling party\", \"split vote\",\n",
        "    \"straight-ticket voting\", \"caucus\", \"primary election\", \"convention\",\n",
        "\n",
        "    # Common political verbs/actions\n",
        "    \"endorses\", \"nominates\", \"campaigns\", \"challenges\", \"criticizes\",\n",
        "    \"backs\", \"aligns with\", \"fundraises\", \"votes along party lines\", \"withdraws support\"\n",
        "]\n",
        "news_desc = []\n",
        "if category == \"nation\":\n",
        "  for article in data[\"articles\"]:\n",
        "    description = article[\"description\"]\n",
        "    title = article[\"title\"]\n",
        "    for j in political_party_keywords:\n",
        "      if j in description or j in title:\n",
        "        news_desc.append(description)\n",
        "else:\n",
        "  news_desc = [article[\"description\"] for article in data[\"articles\"]]\n",
        "if len(news_desc) > 0:\n",
        "  message_body = \"Political News Summary:\\n\\n\" + \"\\n\".join(news_desc)\n",
        "else:\n",
        "  message_body = \"No substantial political news so far\"\n",
        "\n",
        "\n",
        "CARRIERS = {\n",
        "    \"att\": \"@mms.att.net\",\n",
        "    \"tmobile\": \"@mms.tmobile.net\",\n",
        "    \"verizon\": \"@vtext.com\",\n",
        "    \"sprint\": \"@messaging.sprintpcs.com\"\n",
        "}\n",
        "\n",
        "EMAIL = \"YOUR_EMAIL\"\n",
        "PASSWORD = \"YOUR_APP_PASSWORD\"\n",
        "\n",
        "\n",
        "def send_message(phone_number, carrier, message):\n",
        "    recipient = str(phone_number) + CARRIERS[carrier.lower()]\n",
        "    with smtplib.SMTP(\"smtp.gmail.com\", 587) as server:\n",
        "        server.starttls()\n",
        "        server.login(EMAIL, PASSWORD)\n",
        "        server.sendmail(EMAIL, recipient, message.encode('utf-8'))\n",
        "\n",
        "\n",
        "phone_number = int(input(\"Phone Number (Only type numbers, no spaces or dashes or etc.): \"))\n",
        "carrier = input(\"Pick one of the four options: att, tmobile, verizon, sprint: \")\n",
        "\n",
        "\n",
        "try:\n",
        "    result = send_message(phone_number, carrier, message_body)\n",
        "    print(\"Sendmail result:\", result)\n",
        "    print(\"Message sent!\")\n",
        "except Exception as e:\n",
        "    print(f\"Error: {e}\")"
      ],
      "execution_count": 4,
      "outputs": [
        {
          "output_type": "stream",
          "name": "stdout",
          "text": [
            "Category: (general, world, nation, business, technology, entertainment, sports, science and health)science and health\n",
            "Phone Number (Only type numbers, no spaces or dashes or etc.): 5712245537\n",
            "Pick one of the four options: att, tmobile, verizon, sprint: tmobile\n",
            "Sendmail result: None\n",
            "Message sent!\n"
          ]
        }
      ]
    }
  ]
}
